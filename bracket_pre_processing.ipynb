{
 "cells": [
  {
   "cell_type": "code",
   "execution_count": 4,
   "id": "4b59a7d2-c6ed-4656-a4c5-3fef9022d26a",
   "metadata": {},
   "outputs": [
    {
     "name": "stdout",
     "output_type": "stream",
     "text": [
      "처리가 완료되었으며, 파일이 '통합파일1_Nnew__.xlsx'로 저장되었습니다.\n"
     ]
    }
   ],
   "source": [
    "import pandas as pd\n",
    "import re\n",
    "\n",
    "# 주어진 함수\n",
    "def code(x):\n",
    "    new_text = x\n",
    "    new_text = re.sub(r'([가-힣]+?)(\\#?)(\\-?)([ㄱ-ㅎ]*?)([가-힣]?)\\/([가-힣]?)(\\-?)(\\#?)([가-힣]*?)', r'\\1\\2\\3\\4\\5,\\6\\7\\8\\9', new_text)\n",
    "    rgx1 = re.compile(r\"(\\[|\\]|\\(|\\)|\\/|[a-zA-Z]|\\||\\!|\\?|\\*|\\s|[1-9]|\\<|\\>|\\'|\\:)*\")\n",
    "    rgx2 = re.compile(r'(\\{|\\}){1,}')\n",
    "    rgx3 = re.compile(r'\\,')\n",
    "    rgx4 = re.compile(r'(\\#)?(\\w|\\d)\\|(\\#)?(\\w|\\d)')\n",
    "\n",
    "    new_text = re.sub(rgx1, \"\", new_text)\n",
    "    new_text = re.sub(rgx2, \".*\", new_text)\n",
    "    new_text = re.sub(rgx3, \"|\", new_text)\n",
    "    new_text = re.sub(r'(\\#?)(\\w*?)(\\#?)(\\-?)(\\w*)(\\w?)\\|(\\#?)(\\w*)(\\#?)(\\w*)(\\#?)(\\w*)', r'(\\1\\2\\3\\4\\5\\6|\\7\\8\\9\\10\\11\\12)', new_text)\n",
    "    new_text = re.sub(r'\\)\\|(\\#?)(\\w+)', r'|\\1\\2)', new_text)\n",
    "    new_text = re.sub(r'\\)(\\||\\#)\\(', r'\\1', new_text)\n",
    "    new_text = re.sub(r'\\)\\(', r'', new_text)\n",
    "    new_text = re.sub(r'(\\.{3})\\(', r'(\\1', new_text)\n",
    "    new_text = re.sub(r'\\)(\\.{3})', r'\\1)', new_text)\n",
    "    new_text = re.sub(r'(\\))(\\-)', r'\\2)', new_text)\n",
    "    return new_text\n",
    "\n",
    "# 엑셀 파일 읽기\n",
    "file_path = 'C:\\\\Univ\\\\채교수님플젝\\\\작업\\\\통합문서1.xlsx'\n",
    "df = pd.read_excel(file_path, dtype=str, header=0)\n",
    "\n",
    "df[\"변환된_결과\"] = \"\"\n",
    "for i in range(1, min(len(df), df.shape[0])):  # 최대 79행까지 반복\n",
    "    cell_value = df.iloc[i, 0]  # 1열 데이터\n",
    "    if pd.notna(cell_value):  # 셀이 NaN이 아닌 경우에만 처리\n",
    "        transformed_value = code(cell_value)  # 함수 적용\n",
    "        df.iat[i, 1] = transformed_value  # 결과를 2열에 저장\n",
    "\n",
    "# 결과를 새로운 엑셀 파일로 저장\n",
    "output_file_path = 'C:\\\\Univ\\\\채교수님플젝\\\\작업\\\\통합파일1_New.xlsx'\n",
    "df.to_excel(output_file_path, index=False)\n",
    "\n",
    "print(\"처리가 완료되었으며, 파일이 '통합파일1_Nnew__.xlsx'로 저장되었습니다.\")\n"
   ]
  },
  {
   "cell_type": "code",
   "execution_count": 18,
   "id": "bc6d4045-a54b-4365-8779-2cadc76af90f",
   "metadata": {},
   "outputs": [
    {
     "name": "stdout",
     "output_type": "stream",
     "text": [
      "처리가 완료되었으며, 파일이 '통합파일1_Nnew__.xlsx'로 저장되었습니다.\n"
     ]
    }
   ],
   "source": [
    "import pandas as pd\n",
    "import re\n",
    "\n",
    "# 주어진 함수\n",
    "def code(x):\n",
    "    new_text = x\n",
    "    new_text = re.sub(r'([가-힣]+?)(\\#?)(\\-?)([ㄱ-ㅎ]*?)([가-힣]?)\\/([가-힣]?)(\\-?)(\\#?)([가-힣]*?)', r'\\1\\2\\3\\4\\5,\\6\\7\\8\\9', new_text)\n",
    "    rgx1 = re.compile(r\"(\\[|\\]|\\(|\\)|\\/|[a-zA-Z]|\\||\\!|\\?|\\*|\\s|[1-9]|\\<|\\>|\\'|\\:)*\")\n",
    "    rgx2 = re.compile(r'(\\{|\\}){1,}')\n",
    "    rgx3 = re.compile(r'\\,')\n",
    "    rgx4 = re.compile(r'(\\#)?(\\w|\\d)\\|(\\#)?(\\w|\\d)')\n",
    "\n",
    "    new_text = re.sub(rgx1, \"\", new_text)\n",
    "    new_text = re.sub(rgx2, \".*\", new_text)\n",
    "    new_text = re.sub(rgx3, \"|\", new_text)\n",
    "    new_text = re.sub(r'(\\#?)(\\w*?)(\\#?)(\\-?)(\\w*)(\\w?)\\|(\\#?)(\\w*)(\\#?)(\\w*)(\\#?)(\\w*)', r'(\\1\\2\\3\\4\\5\\6|\\7\\8\\9\\10\\11\\12)', new_text)\n",
    "    new_text = re.sub(r'\\)\\|(\\#?)(\\w+)', r'|\\1\\2)', new_text)\n",
    "    new_text = re.sub(r'\\)(\\||\\#)\\(', r'\\1', new_text)\n",
    "    new_text = re.sub(r'\\)\\(', r'', new_text)\n",
    "    new_text = re.sub(r'(\\.{3})\\(', r'(\\1', new_text)\n",
    "    new_text = re.sub(r'\\)(\\.{3})', r'\\1)', new_text)\n",
    "    new_text = re.sub(r'(\\))(\\-)', r'\\2)', new_text)\n",
    "    return new_text\n",
    "\n",
    "# 엑셀 파일 읽기\n",
    "file_path = 'C:\\\\Univ\\\\채교수님플젝\\\\통합문서1.xlsx'\n",
    "df = pd.read_excel(file_path, dtype=str, header=0)\n",
    "\n",
    "df[\"변환된_결과\"] = \"\"\n",
    "for i in range(1, min(len(df), df.shape[0])):  # 최대 79행까지 반복\n",
    "    cell_value = df.iloc[i, 0]  # 1열 데이터\n",
    "    if pd.notna(cell_value):  # 셀이 NaN이 아닌 경우에만 처리\n",
    "        transformed_value = code(cell_value)  # 함수 적용\n",
    "        df.iat[i, 1] = transformed_value  # 결과를 2열에 저장\n",
    "\n",
    "# 결과를 새로운 엑셀 파일로 저장\n",
    "output_file_path = 'C:\\\\Univ\\\\채교수님플젝\\\\통합파일1_New.xlsx'\n",
    "df.to_excel(output_file_path, index=False)\n",
    "\n",
    "print(\"처리가 완료되었으며, 파일이 '통합파일1_Nnew__.xlsx'로 저장되었습니다.\")\n"
   ]
  },
  {
   "cell_type": "code",
   "execution_count": null,
   "id": "1677a474-bbd9-427e-9bf8-fffb5f890587",
   "metadata": {},
   "outputs": [],
   "source": []
  },
  {
   "cell_type": "code",
   "execution_count": null,
   "id": "b05eb3e2-34b9-490d-9204-7a8fd5676af6",
   "metadata": {},
   "outputs": [],
   "source": []
  }
 ],
 "metadata": {
  "kernelspec": {
   "display_name": "Python 3 (ipykernel)",
   "language": "python",
   "name": "python3"
  },
  "language_info": {
   "codemirror_mode": {
    "name": "ipython",
    "version": 3
   },
   "file_extension": ".py",
   "mimetype": "text/x-python",
   "name": "python",
   "nbconvert_exporter": "python",
   "pygments_lexer": "ipython3",
   "version": "3.12.7"
  }
 },
 "nbformat": 4,
 "nbformat_minor": 5
}
